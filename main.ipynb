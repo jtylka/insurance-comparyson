{
 "cells": [
  {
   "cell_type": "code",
   "execution_count": 19,
   "metadata": {},
   "outputs": [],
   "source": [
    "import numpy as np\n",
    "\n",
    "from bokeh.layouts import row, column\n",
    "from bokeh.models import CustomJS, Slider\n",
    "from bokeh.plotting import figure, output_file, show, ColumnDataSource\n",
    "\n",
    "def cost_curve(x,premium,contribution,deductible,coinsuranceRate,maxOutOfPocket):\n",
    "    eff_premium = premium - contribution\n",
    "    post_deduct = (coinsuranceRate * (x - deductible)) + deductible\n",
    "    y = np.fmin(np.fmin(x, post_deduct), maxOutOfPocket) + eff_premium\n",
    "    return y"
   ]
  },
  {
   "cell_type": "code",
   "execution_count": 25,
   "metadata": {},
   "outputs": [],
   "source": [
    "x = np.linspace(0.0, 10000, 100)\n",
    "\n",
    "premium_slider = Slider(start=0, end=2000, value=100, step=.1, title=\"Premium\")\n",
    "contribution_slider = Slider(start=0, end=1000, value=50, step=10, title=\"Company Contribution\")\n",
    "deductible_slider = Slider(start=0, end=6000, value=2000, step=10, title=\"Deductible\")\n",
    "coinsuranceRate_slider = Slider(start=0, end=1, value=0.5, step=.01, title=\"Coinsurance Rate (paid by you)\")\n",
    "maxOutOfPocket_slider = Slider(start=0, end=8000, value=4000, step=10, title=\"Maximum Out Of Pocket\")\n",
    "y = cost_curve(x,premium_slider.value,contribution_slider.value,deductible_slider.value,coinsuranceRate_slider.value,maxOutOfPocket_slider.value)\n",
    "\n",
    "plot = figure(x_range=(0,10000), y_range=(0,10000), plot_width=400, plot_height=400, tools=\"pan,hover,crosshair,reset\")\n",
    "plot.line(x, x, line_dash=(4,4), line_color=\"black\")\n",
    "plot.xaxis.axis_label = 'Out-of-Pocket Expenses'\n",
    "plot.yaxis.axis_label = 'Actual Incurred Cost'\n",
    "\n",
    "source = ColumnDataSource(data=dict(x=x, y=y))\n",
    "plot.line('x', 'y', source=source, line_width=3, line_alpha=0.6, legend=\"Plan 1\")\n",
    "\n",
    "callback = CustomJS(args=dict(source=source, premium=premium_slider, contribution=contribution_slider, deductible=deductible_slider, coinsuranceRate=coinsuranceRate_slider, maxOutOfPocket=maxOutOfPocket_slider),\n",
    "                    code=\"\"\"\n",
    "    const data = source.data;\n",
    "    const P = premium.value - contribution.value;\n",
    "    const D = deductible.value;\n",
    "    const R = coinsuranceRate.value;\n",
    "    const M = maxOutOfPocket.value;\n",
    "    const x = data['x']\n",
    "    const y = data['y']\n",
    "    for (var i = 0; i < x.length; i++) {\n",
    "        const post_deduct = (R*(x[i] - D)) + D;\n",
    "        y[i] = Math.min(Math.min(x[i],post_deduct),M) + P;\n",
    "    }\n",
    "    source.change.emit();\n",
    "\"\"\")\n",
    "\n",
    "premium_slider.js_on_change('value', callback)\n",
    "contribution_slider.js_on_change('value', callback)\n",
    "deductible_slider.js_on_change('value', callback)\n",
    "coinsuranceRate_slider.js_on_change('value', callback)\n",
    "maxOutOfPocket_slider.js_on_change('value', callback)\n",
    "\n",
    "layout = row(\n",
    "    plot,\n",
    "    column(premium_slider, contribution_slider, deductible_slider, coinsuranceRate_slider, maxOutOfPocket_slider),\n",
    ")\n",
    "\n",
    "output_file(\"main.html\", title=\"Insurance Plan Comparison\")\n",
    "\n",
    "show(layout)"
   ]
  },
  {
   "cell_type": "code",
   "execution_count": null,
   "metadata": {},
   "outputs": [],
   "source": []
  }
 ],
 "metadata": {
  "kernelspec": {
   "display_name": "Python 3",
   "language": "python",
   "name": "python3"
  },
  "language_info": {
   "codemirror_mode": {
    "name": "ipython",
    "version": 3
   },
   "file_extension": ".py",
   "mimetype": "text/x-python",
   "name": "python",
   "nbconvert_exporter": "python",
   "pygments_lexer": "ipython3",
   "version": "3.7.4"
  }
 },
 "nbformat": 4,
 "nbformat_minor": 2
}
