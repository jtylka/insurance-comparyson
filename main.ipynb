{
 "cells": [
  {
   "cell_type": "code",
   "execution_count": 1,
   "metadata": {},
   "outputs": [],
   "source": [
    "import numpy as np\n",
    "\n",
    "from bokeh.layouts import row, column\n",
    "from bokeh.models import CustomJS, Slider\n",
    "from bokeh.plotting import figure, output_file, show, ColumnDataSource\n",
    "\n",
    "def cost_curve(x,premium,contribution,deductible,coinsuranceRate,maxOutOfPocket):\n",
    "    eff_premium = premium - contribution\n",
    "    post_deduct = (coinsuranceRate * (x - deductible)) + deductible\n",
    "    y = np.fmin(np.fmin(x, post_deduct), maxOutOfPocket) + eff_premium\n",
    "    return y\n",
    "\n",
    "def plan_UI():\n",
    "    plan = {\n",
    "        \"premium\": Slider(start=0, end=2000, value=100, step=.1, title=\"Premium\"),\n",
    "        \"contribution\": Slider(start=0, end=1000, value=50, step=10, title=\"Company Contribution\"),\n",
    "        \"deductible\": Slider(start=0, end=6000, value=2000, step=10, title=\"Deductible\"),\n",
    "        \"coinsurance\": Slider(start=0, end=1, value=0.5, step=.01, title=\"Coinsurance Rate (paid by you)\"),\n",
    "        \"maxOutOfPocket\": Slider(start=0, end=8000, value=4000, step=10, title=\"Maximum Out Of Pocket\")\n",
    "    }\n",
    "    return plan\n",
    "\n",
    "callback_code = \"\"\"\n",
    "    const data = source.data;\n",
    "    const P = premium.value - contribution.value;\n",
    "    const D = deductible.value;\n",
    "    const R = coinsurance.value;\n",
    "    const M = maxOutOfPocket.value;\n",
    "    const x = data['x']\n",
    "    const y = data['y']\n",
    "    for (var i = 0; i < x.length; i++) {\n",
    "        const post_deduct = (R*(x[i] - D)) + D;\n",
    "        y[i] = Math.min(Math.min(x[i],post_deduct),M) + P;\n",
    "    }\n",
    "    source.change.emit();\n",
    "\"\"\""
   ]
  },
  {
   "cell_type": "code",
   "execution_count": 2,
   "metadata": {},
   "outputs": [],
   "source": [
    "x = np.linspace(0.0, 10000, 100)\n",
    "\n",
    "plan1 = plan_UI()\n",
    "plan2 = plan_UI()\n",
    "y = cost_curve(x,plan1['premium'].value,plan1['contribution'].value,plan1['deductible'].value,plan1['coinsurance'].value,plan1['maxOutOfPocket'].value)\n",
    "\n",
    "plot = figure(x_range=(0,10000), y_range=(0,10000), plot_width=400, plot_height=400, tools=\"pan,hover,crosshair,reset\")\n",
    "plot.line(x, x, line_dash=(4,4), line_color=\"black\")\n",
    "plot.xaxis.axis_label = 'Out-of-Pocket Expenses'\n",
    "plot.yaxis.axis_label = 'Actual Incurred Cost'\n",
    "\n",
    "source1 = ColumnDataSource(data=dict(x=x, y=y))\n",
    "source2 = ColumnDataSource(data=dict(x=x, y=y))\n",
    "plot.line('x', 'y', source=source1, line_width=3, line_alpha=0.6, legend=\"Plan 1\")\n",
    "plot.line('x', 'y', source=source2, line_width=3, line_alpha=0.6, legend=\"Plan 2\", line_color=\"orange\")\n",
    "\n",
    "plan1.update(dict(source=source1))\n",
    "plan2.update(dict(source=source2))\n",
    "\n",
    "callback1 = CustomJS(args=plan1,code=callback_code)\n",
    "callback2 = CustomJS(args=plan2,code=callback_code)\n",
    "\n",
    "plan1['premium'].js_on_change('value', callback1)\n",
    "plan1['contribution'].js_on_change('value', callback1)\n",
    "plan1['deductible'].js_on_change('value', callback1)\n",
    "plan1['coinsurance'].js_on_change('value', callback1)\n",
    "plan1['maxOutOfPocket'].js_on_change('value', callback1)\n",
    "\n",
    "plan2['premium'].js_on_change('value', callback2)\n",
    "plan2['contribution'].js_on_change('value', callback2)\n",
    "plan2['deductible'].js_on_change('value', callback2)\n",
    "plan2['coinsurance'].js_on_change('value', callback2)\n",
    "plan2['maxOutOfPocket'].js_on_change('value', callback2)"
   ]
  },
  {
   "cell_type": "code",
   "execution_count": 3,
   "metadata": {},
   "outputs": [],
   "source": [
    "layout = row(\n",
    "    plot,\n",
    "    column(plan1['premium'],plan1['contribution'],plan1['deductible'],plan1['coinsurance'],plan1['maxOutOfPocket']),\n",
    "    column(plan2['premium'],plan2['contribution'],plan2['deductible'],plan2['coinsurance'],plan2['maxOutOfPocket']),\n",
    ")\n",
    "\n",
    "output_file(\"main.html\", title=\"Insurance Plan Comparison\")\n",
    "\n",
    "show(layout)"
   ]
  },
  {
   "cell_type": "code",
   "execution_count": null,
   "metadata": {},
   "outputs": [],
   "source": []
  }
 ],
 "metadata": {
  "kernelspec": {
   "display_name": "Python 3",
   "language": "python",
   "name": "python3"
  },
  "language_info": {
   "codemirror_mode": {
    "name": "ipython",
    "version": 3
   },
   "file_extension": ".py",
   "mimetype": "text/x-python",
   "name": "python",
   "nbconvert_exporter": "python",
   "pygments_lexer": "ipython3",
   "version": "3.7.4"
  }
 },
 "nbformat": 4,
 "nbformat_minor": 2
}
